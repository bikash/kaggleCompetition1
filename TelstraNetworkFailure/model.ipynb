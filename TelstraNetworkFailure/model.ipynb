import numpy as np
import matplotlib
import matplotlib.pyplot as plt
import pandas as pd

from sklearn.cross_validation import train_test_split
from sklearn.manifold import TSNE

trainingSet = pd.read_csv('data/train.csv', index_col=0)
#remove redundant string 'location' from location entries
#trainingSet['location'] = [l.replace('location ', '') for l in trainingSet['location']]
#trainingSet['location'] = trainingSet['location'].astype('category')
#trainingSet['fault_severity'] = trainingSet['fault_severity'].astype('category')
trainingSet.describe()
trainingSet.head(5)

#count the occurences of different events
trainingSet['fault_severity'].value_counts()
#checking failures by location
eventLocations = trainingSet.groupby('fault_severity')
print type(eventLocations)
#eventLocations.head()
dfrd=eventLocations.describe()
print type(dfrd)
dfrd.head(20)
